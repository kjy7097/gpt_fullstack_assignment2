{
 "cells": [
  {
   "cell_type": "code",
   "execution_count": 1,
   "metadata": {},
   "outputs": [
    {
     "name": "stdout",
     "output_type": "stream",
     "text": [
      "AI : \n",
      "            감독: 크리스토퍼 놀란\n",
      "            주요 출연진: 크리스찬 베일, 히스 레저, 앤 해서웨이, 게리 올드만, 마이클 케인\n",
      "            예산: 약 1억 85백만 달러\n",
      "            흥행 수익: 약 10억 34백만 달러\n",
      "            장르: 액션, 스릴러, 범죄\n",
      "            시놉시스: 배트맨과 조커의 대결을 그린 영화로, 조커의 악랄한 계획에 맞서는 배트맨의 이야기를 다룬다."
     ]
    },
    {
     "data": {
      "text/plain": [
       "AIMessageChunk(content='AI : \\n            감독: 크리스토퍼 놀란\\n            주요 출연진: 크리스찬 베일, 히스 레저, 앤 해서웨이, 게리 올드만, 마이클 케인\\n            예산: 약 1억 85백만 달러\\n            흥행 수익: 약 10억 34백만 달러\\n            장르: 액션, 스릴러, 범죄\\n            시놉시스: 배트맨과 조커의 대결을 그린 영화로, 조커의 악랄한 계획에 맞서는 배트맨의 이야기를 다룬다.')"
      ]
     },
     "execution_count": 1,
     "metadata": {},
     "output_type": "execute_result"
    }
   ],
   "source": [
    "from langchain.chat_models import ChatOpenAI\n",
    "from langchain.prompts import PromptTemplate\n",
    "from langchain.prompts.few_shot import FewShotPromptTemplate\n",
    "from langchain.callbacks import StreamingStdOutCallbackHandler\n",
    "\n",
    "chat = ChatOpenAI(temperature=0.1, \n",
    "                  streaming=True, \n",
    "                  callbacks=[StreamingStdOutCallbackHandler()])\n",
    "examples = [\n",
    "    {\n",
    "        \"question\": \"영화 인셉션에 대해 알려줘\",\n",
    "        \"answer\": \"\"\"\n",
    "            감독: 크리스토퍼 놀란\n",
    "            주요 출연진: 레오나르도 디카프리오, 조셉 고든 레빗, 엘렌 페이지, 톰 하디\n",
    "            예산: 약 1억 6천만 달러\n",
    "            흥행 수익: 약 8억 2천 8백만 달러\n",
    "            장르: SF, 스릴러, 액션\n",
    "            시놉시스: 꿈속에 들어가 사람의 잠재의식을 조작하는 도둑이, 한 기업가의 아이디어를 심기 위해 위험한 임무를 맡으며 벌어지는 이야기를 그린다.\n",
    "        \"\"\",\n",
    "    },\n",
    "    {\n",
    "        \"question\": \"영화 기생충에 대해 알려줘\",\n",
    "        \"answer\": \"\"\"\n",
    "            감독: 봉준호\n",
    "            주요 출연진: 송강호, 이선균, 조여정, 최우식, 박소담\n",
    "            예산: 약 135억 원 (약 1천 2백만 달러)\n",
    "            흥행 수익: 약 2억 6천만 달러\n",
    "            장르: 드라마, 스릴러, 블랙 코미디\n",
    "            시놉시스: 가난한 가족과 부유한 가족의 삶이 얽히며 벌어지는 계급 갈등과 예기치 못한 사건들을 다룬 영화.\n",
    "        \"\"\",\n",
    "    },\n",
    "    {\n",
    "        \"question\": \"영화 타이타닉에 대해 알려줘\",\n",
    "        \"answer\": \"\"\"\n",
    "            감독: 제임스 카메론\n",
    "            주요 출연진: 레오나르도 디카프리오, 케이트 윈슬렛, 빌리 제인, 캐시 베이츠\n",
    "            예산: 약 2억 달러\n",
    "            흥행 수익: 약 22억 달러\n",
    "            장르: 로맨스, 드라마\n",
    "            시놉시스: 1912년 대서양을 항해하던 타이타닉호에서 사랑에 빠진 두 젊은 연인의 이야기를 중심으로 한 비극적 사건을 그린 영화.\n",
    "        \"\"\",\n",
    "    },\n",
    "]\n",
    "\n",
    "example_prompt = PromptTemplate.from_template(\"Human : {question}\\nAI : {answer}\")\n",
    "\n",
    "prompt = FewShotPromptTemplate(\n",
    "    example_prompt=example_prompt,\n",
    "    examples=examples,\n",
    "    suffix=\"Human : 영화 {movie}에 대해 알려줘\",\n",
    "    input_variables=[\"movie\"],\n",
    ")\n",
    "\n",
    "chain = prompt | chat\n",
    "\n",
    "chain.invoke({\"movie\":\"다크나이트\"})"
   ]
  }
 ],
 "metadata": {
  "kernelspec": {
   "display_name": "gpt",
   "language": "python",
   "name": "python3"
  },
  "language_info": {
   "codemirror_mode": {
    "name": "ipython",
    "version": 3
   },
   "file_extension": ".py",
   "mimetype": "text/x-python",
   "name": "python",
   "nbconvert_exporter": "python",
   "pygments_lexer": "ipython3",
   "version": "3.11.11"
  }
 },
 "nbformat": 4,
 "nbformat_minor": 2
}
